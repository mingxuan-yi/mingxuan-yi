{
 "cells": [
  {
   "cell_type": "code",
   "execution_count": null,
   "metadata": {
    "collapsed": false
   },
   "outputs": [],
   "source": [
    "# build network\n",
    "data_dim = 2\n",
    "\n",
    "D_logit = Discriminator().to(device)\n",
    "xs = torch.randn([1000, data_dim]).to(device)\n",
    "xs.requires_grad = True\n",
    "# loss\n",
    "criterion = nn.BCEWithLogitsLoss()\n",
    "\n",
    "# optimizer\n",
    "D_optimizer = optim.Adam(D_logit.parameters(), lr = 0.0002)\n",
    "\n",
    "'''\n",
    "One can also use SGD optimizer for xs which corresponds \n",
    "to the standard forward Euler approach, but it works very slow.\n",
    "'''\n",
    "xs_optimizer = optim.Adam([xs], lr = 0.01)\n"
   ]
  }
 ],
 "metadata": {
  "kernelspec": {
   "display_name": "Python 3",
   "language": "python",
   "name": "python3"
  },
  "language_info": {
   "codemirror_mode": {
    "name": "ipython",
    "version": 3
   },
   "file_extension": ".py",
   "mimetype": "text/x-python",
   "name": "python",
   "nbconvert_exporter": "python",
   "pygments_lexer": "ipython3",
   "version": "3.6.2"
  }
 },
 "nbformat": 4,
 "nbformat_minor": 2
}
